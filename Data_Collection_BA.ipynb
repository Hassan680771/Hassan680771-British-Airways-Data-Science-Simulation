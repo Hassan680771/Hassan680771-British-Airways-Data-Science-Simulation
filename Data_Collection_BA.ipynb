{
 "cells": [
  {
   "cell_type": "code",
   "execution_count": 1,
   "id": "d8813316",
   "metadata": {},
   "outputs": [],
   "source": [
    "#imports\n",
    "import pandas as pd\n",
    "import numpy as np\n",
    "from bs4 import BeautifulSoup\n",
    "import requests "
   ]
  },
  {
   "cell_type": "code",
   "execution_count": 2,
   "id": "8582906c",
   "metadata": {},
   "outputs": [
    {
     "name": "stdout",
     "output_type": "stream",
     "text": [
      "Error on page 34 for stars: 'NoneType' object has no attribute 'text'\n",
      "Error on page 35 for stars: 'NoneType' object has no attribute 'text'\n",
      "Error on page 35 for stars: 'NoneType' object has no attribute 'text'\n",
      "Total Reviews: 3500\n",
      "Total Stars: 3535\n",
      "Total Dates: 3500\n",
      "Total Countries: 3500\n"
     ]
    }
   ],
   "source": [
    "# Initialize empty lists for storing data\n",
    "reviews = []\n",
    "stars = []\n",
    "dates = []\n",
    "countries = []\n",
    "\n",
    "# Loop through the pages (1 to 35)\n",
    "for i in range(1, 36):\n",
    "    # Construct the URL dynamically\n",
    "    url = f\"https://www.airlinequality.com/airline-reviews/british-airways/page/{i}/?sortby=post_date%3ADesc&pagesize=100\"\n",
    "    \n",
    "    # Send the GET request\n",
    "    page = requests.get(url)\n",
    "    \n",
    "    # Parse the content of the page\n",
    "    soup = BeautifulSoup(page.content, \"html.parser\")\n",
    "    \n",
    "    # Scraping reviews\n",
    "    for item in soup.find_all(\"div\", class_=\"text_content\"):\n",
    "        reviews.append(item.text.strip())\n",
    "    \n",
    "    # Scraping star ratings\n",
    "    for item in soup.find_all(\"div\", class_=\"rating-10\"):\n",
    "        try:\n",
    "            stars.append(item.span.text.strip())\n",
    "        except Exception as e:\n",
    "            print(f\"Error on page {i} for stars: {e}\")\n",
    "            stars.append(\"None\")\n",
    "    \n",
    "    # Scraping dates\n",
    "    for item in soup.find_all(\"time\"):\n",
    "        dates.append(item.text.strip())\n",
    "    \n",
    "    # Scraping country names\n",
    "    for item in soup.find_all(\"h3\"):\n",
    "        try:\n",
    "            country_name = item.span.next_sibling.text.strip(\" ()\")\n",
    "            countries.append(country_name)\n",
    "        except Exception as e:\n",
    "            print(f\"Error on page {i} for country: {e}\")\n",
    "            countries.append(\"Unknown\")\n",
    "\n",
    "# Display the number of items scraped for verification\n",
    "print(f\"Total Reviews: {len(reviews)}\")\n",
    "print(f\"Total Stars: {len(stars)}\")\n",
    "print(f\"Total Dates: {len(dates)}\")\n",
    "print(f\"Total Countries: {len(countries)}\")\n"
   ]
  },
  {
   "cell_type": "code",
   "execution_count": 3,
   "id": "ebda4a72",
   "metadata": {},
   "outputs": [],
   "source": [
    "# Ensure all lists have the same length\n",
    "min_length = min(len(reviews), len(stars), len(dates), len(countries))\n",
    "\n",
    "# Trim all lists to the minimum length\n",
    "reviews = reviews[:min_length]\n",
    "stars = stars[:min_length]\n",
    "dates = dates[:min_length]\n",
    "countries = countries[:min_length]"
   ]
  },
  {
   "cell_type": "code",
   "execution_count": 4,
   "id": "6a001377",
   "metadata": {},
   "outputs": [
    {
     "data": {
      "text/plain": [
       "3500"
      ]
     },
     "execution_count": 4,
     "metadata": {},
     "output_type": "execute_result"
    }
   ],
   "source": [
    "len(reviews)"
   ]
  },
  {
   "cell_type": "code",
   "execution_count": 5,
   "id": "4c134f88",
   "metadata": {},
   "outputs": [
    {
     "data": {
      "text/plain": [
       "3500"
      ]
     },
     "execution_count": 5,
     "metadata": {},
     "output_type": "execute_result"
    }
   ],
   "source": [
    "len(stars)"
   ]
  },
  {
   "cell_type": "code",
   "execution_count": 6,
   "id": "c72668eb",
   "metadata": {},
   "outputs": [
    {
     "data": {
      "text/plain": [
       "3500"
      ]
     },
     "execution_count": 6,
     "metadata": {},
     "output_type": "execute_result"
    }
   ],
   "source": [
    "len(dates)"
   ]
  },
  {
   "cell_type": "code",
   "execution_count": 7,
   "id": "e793b34b",
   "metadata": {},
   "outputs": [
    {
     "data": {
      "text/plain": [
       "3500"
      ]
     },
     "execution_count": 7,
     "metadata": {},
     "output_type": "execute_result"
    }
   ],
   "source": [
    "len(countries)"
   ]
  },
  {
   "cell_type": "code",
   "execution_count": 8,
   "id": "4db2e7fe",
   "metadata": {},
   "outputs": [
    {
     "data": {
      "text/html": [
       "<div>\n",
       "<style scoped>\n",
       "    .dataframe tbody tr th:only-of-type {\n",
       "        vertical-align: middle;\n",
       "    }\n",
       "\n",
       "    .dataframe tbody tr th {\n",
       "        vertical-align: top;\n",
       "    }\n",
       "\n",
       "    .dataframe thead th {\n",
       "        text-align: right;\n",
       "    }\n",
       "</style>\n",
       "<table border=\"1\" class=\"dataframe\">\n",
       "  <thead>\n",
       "    <tr style=\"text-align: right;\">\n",
       "      <th></th>\n",
       "      <th>reviews</th>\n",
       "      <th>stars</th>\n",
       "      <th>date</th>\n",
       "      <th>country</th>\n",
       "    </tr>\n",
       "  </thead>\n",
       "  <tbody>\n",
       "    <tr>\n",
       "      <th>0</th>\n",
       "      <td>Not Verified | The worst airline I have ever f...</td>\n",
       "      <td>5</td>\n",
       "      <td>13th November 2024</td>\n",
       "      <td>Australia</td>\n",
       "    </tr>\n",
       "    <tr>\n",
       "      <th>1</th>\n",
       "      <td>✅ Trip Verified |   Disappointing service, pla...</td>\n",
       "      <td>1</td>\n",
       "      <td>8th November 2024</td>\n",
       "      <td>Iceland</td>\n",
       "    </tr>\n",
       "    <tr>\n",
       "      <th>2</th>\n",
       "      <td>✅ Trip Verified |   A transit visa is required...</td>\n",
       "      <td>3</td>\n",
       "      <td>8th November 2024</td>\n",
       "      <td>Singapore</td>\n",
       "    </tr>\n",
       "    <tr>\n",
       "      <th>3</th>\n",
       "      <td>✅ Trip Verified |   I was surprised to receive...</td>\n",
       "      <td>1</td>\n",
       "      <td>7th November 2024</td>\n",
       "      <td>Turkey</td>\n",
       "    </tr>\n",
       "    <tr>\n",
       "      <th>4</th>\n",
       "      <td>✅ Trip Verified |   Flight cancelled, not refu...</td>\n",
       "      <td>3</td>\n",
       "      <td>7th November 2024</td>\n",
       "      <td>Canada</td>\n",
       "    </tr>\n",
       "  </tbody>\n",
       "</table>\n",
       "</div>"
      ],
      "text/plain": [
       "                                             reviews stars  \\\n",
       "0  Not Verified | The worst airline I have ever f...     5   \n",
       "1  ✅ Trip Verified |   Disappointing service, pla...     1   \n",
       "2  ✅ Trip Verified |   A transit visa is required...     3   \n",
       "3  ✅ Trip Verified |   I was surprised to receive...     1   \n",
       "4  ✅ Trip Verified |   Flight cancelled, not refu...     3   \n",
       "\n",
       "                 date    country  \n",
       "0  13th November 2024  Australia  \n",
       "1   8th November 2024    Iceland  \n",
       "2   8th November 2024  Singapore  \n",
       "3   7th November 2024     Turkey  \n",
       "4   7th November 2024     Canada  "
      ]
     },
     "execution_count": 8,
     "metadata": {},
     "output_type": "execute_result"
    }
   ],
   "source": [
    "# Create a DataFrame from the collected lists\n",
    "df = pd.DataFrame({\n",
    "    \"reviews\": reviews,\n",
    "    \"stars\": stars,\n",
    "    \"date\": dates,   # Use 'dates' instead of 'date'\n",
    "    \"country\": countries  # Use 'countries' instead of 'country'\n",
    "})\n",
    "\n",
    "# Display the first few rows of the DataFrame\n",
    "df.head()\n"
   ]
  },
  {
   "cell_type": "code",
   "execution_count": 9,
   "id": "899069ed",
   "metadata": {},
   "outputs": [
    {
     "data": {
      "text/plain": [
       "(3500, 4)"
      ]
     },
     "execution_count": 9,
     "metadata": {},
     "output_type": "execute_result"
    }
   ],
   "source": [
    "df.shape"
   ]
  },
  {
   "cell_type": "markdown",
   "id": "d24b8bd3",
   "metadata": {},
   "source": [
    "#### Export the data into a csv format"
   ]
  },
  {
   "cell_type": "code",
   "execution_count": 10,
   "id": "87f34bfd",
   "metadata": {},
   "outputs": [],
   "source": [
    "# Export the DataFrame to a CSV file\n",
    "df.to_csv('BA_Reviews.csv', index=False)  # Set index=False to avoid exporting the index"
   ]
  },
  {
   "cell_type": "code",
   "execution_count": 11,
   "id": "b4749e1f",
   "metadata": {},
   "outputs": [
    {
     "data": {
      "text/html": [
       "<div>\n",
       "<style scoped>\n",
       "    .dataframe tbody tr th:only-of-type {\n",
       "        vertical-align: middle;\n",
       "    }\n",
       "\n",
       "    .dataframe tbody tr th {\n",
       "        vertical-align: top;\n",
       "    }\n",
       "\n",
       "    .dataframe thead th {\n",
       "        text-align: right;\n",
       "    }\n",
       "</style>\n",
       "<table border=\"1\" class=\"dataframe\">\n",
       "  <thead>\n",
       "    <tr style=\"text-align: right;\">\n",
       "      <th></th>\n",
       "      <th>reviews</th>\n",
       "      <th>stars</th>\n",
       "      <th>date</th>\n",
       "      <th>country</th>\n",
       "    </tr>\n",
       "  </thead>\n",
       "  <tbody>\n",
       "    <tr>\n",
       "      <th>0</th>\n",
       "      <td>Not Verified | The worst airline I have ever f...</td>\n",
       "      <td>5</td>\n",
       "      <td>13th November 2024</td>\n",
       "      <td>Australia</td>\n",
       "    </tr>\n",
       "    <tr>\n",
       "      <th>1</th>\n",
       "      <td>✅ Trip Verified |   Disappointing service, pla...</td>\n",
       "      <td>1</td>\n",
       "      <td>8th November 2024</td>\n",
       "      <td>Iceland</td>\n",
       "    </tr>\n",
       "    <tr>\n",
       "      <th>2</th>\n",
       "      <td>✅ Trip Verified |   A transit visa is required...</td>\n",
       "      <td>3</td>\n",
       "      <td>8th November 2024</td>\n",
       "      <td>Singapore</td>\n",
       "    </tr>\n",
       "    <tr>\n",
       "      <th>3</th>\n",
       "      <td>✅ Trip Verified |   I was surprised to receive...</td>\n",
       "      <td>1</td>\n",
       "      <td>7th November 2024</td>\n",
       "      <td>Turkey</td>\n",
       "    </tr>\n",
       "    <tr>\n",
       "      <th>4</th>\n",
       "      <td>✅ Trip Verified |   Flight cancelled, not refu...</td>\n",
       "      <td>3</td>\n",
       "      <td>7th November 2024</td>\n",
       "      <td>Canada</td>\n",
       "    </tr>\n",
       "  </tbody>\n",
       "</table>\n",
       "</div>"
      ],
      "text/plain": [
       "                                             reviews stars  \\\n",
       "0  Not Verified | The worst airline I have ever f...     5   \n",
       "1  ✅ Trip Verified |   Disappointing service, pla...     1   \n",
       "2  ✅ Trip Verified |   A transit visa is required...     3   \n",
       "3  ✅ Trip Verified |   I was surprised to receive...     1   \n",
       "4  ✅ Trip Verified |   Flight cancelled, not refu...     3   \n",
       "\n",
       "                 date    country  \n",
       "0  13th November 2024  Australia  \n",
       "1   8th November 2024    Iceland  \n",
       "2   8th November 2024  Singapore  \n",
       "3   7th November 2024     Turkey  \n",
       "4   7th November 2024     Canada  "
      ]
     },
     "execution_count": 11,
     "metadata": {},
     "output_type": "execute_result"
    }
   ],
   "source": [
    "df.head()"
   ]
  },
  {
   "cell_type": "code",
   "execution_count": null,
   "id": "b2c01472",
   "metadata": {},
   "outputs": [],
   "source": []
  }
 ],
 "metadata": {
  "kernelspec": {
   "display_name": "Python 3 (ipykernel)",
   "language": "python",
   "name": "python3"
  },
  "language_info": {
   "codemirror_mode": {
    "name": "ipython",
    "version": 3
   },
   "file_extension": ".py",
   "mimetype": "text/x-python",
   "name": "python",
   "nbconvert_exporter": "python",
   "pygments_lexer": "ipython3",
   "version": "3.11.4"
  }
 },
 "nbformat": 4,
 "nbformat_minor": 5
}
