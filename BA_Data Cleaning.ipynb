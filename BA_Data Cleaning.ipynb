{
 "cells": [
  {
   "cell_type": "code",
   "execution_count": 69,
   "id": "67e65545",
   "metadata": {},
   "outputs": [],
   "source": [
    "#imports\n",
    "\n",
    "import pandas as pd\n",
    "import matplotlib.pyplot as plt\n",
    "import seaborn as sns\n",
    "import os\n",
    "\n",
    "#regex\n",
    "import re"
   ]
  },
  {
   "cell_type": "code",
   "execution_count": 73,
   "id": "6430f50e",
   "metadata": {},
   "outputs": [],
   "source": [
    "df = pd.read_csv(r\"C:\\Users\\Yasir09\\BA_Reviews.csv\")\n"
   ]
  },
  {
   "cell_type": "code",
   "execution_count": 78,
   "id": "63b1ba28",
   "metadata": {},
   "outputs": [
    {
     "data": {
      "text/html": [
       "<div>\n",
       "<style scoped>\n",
       "    .dataframe tbody tr th:only-of-type {\n",
       "        vertical-align: middle;\n",
       "    }\n",
       "\n",
       "    .dataframe tbody tr th {\n",
       "        vertical-align: top;\n",
       "    }\n",
       "\n",
       "    .dataframe thead th {\n",
       "        text-align: right;\n",
       "    }\n",
       "</style>\n",
       "<table border=\"1\" class=\"dataframe\">\n",
       "  <thead>\n",
       "    <tr style=\"text-align: right;\">\n",
       "      <th></th>\n",
       "      <th>reviews</th>\n",
       "      <th>stars</th>\n",
       "      <th>date</th>\n",
       "      <th>country</th>\n",
       "      <th>verified</th>\n",
       "    </tr>\n",
       "  </thead>\n",
       "  <tbody>\n",
       "    <tr>\n",
       "      <th>0</th>\n",
       "      <td>Not Verified | The worst airline I have ever f...</td>\n",
       "      <td>5</td>\n",
       "      <td>13th November 2024</td>\n",
       "      <td>Australia</td>\n",
       "      <td>False</td>\n",
       "    </tr>\n",
       "    <tr>\n",
       "      <th>1</th>\n",
       "      <td>✅ Trip Verified |   Disappointing service, pla...</td>\n",
       "      <td>1</td>\n",
       "      <td>8th November 2024</td>\n",
       "      <td>Iceland</td>\n",
       "      <td>True</td>\n",
       "    </tr>\n",
       "    <tr>\n",
       "      <th>2</th>\n",
       "      <td>✅ Trip Verified |   A transit visa is required...</td>\n",
       "      <td>3</td>\n",
       "      <td>8th November 2024</td>\n",
       "      <td>Singapore</td>\n",
       "      <td>True</td>\n",
       "    </tr>\n",
       "    <tr>\n",
       "      <th>3</th>\n",
       "      <td>✅ Trip Verified |   I was surprised to receive...</td>\n",
       "      <td>1</td>\n",
       "      <td>7th November 2024</td>\n",
       "      <td>Turkey</td>\n",
       "      <td>True</td>\n",
       "    </tr>\n",
       "    <tr>\n",
       "      <th>4</th>\n",
       "      <td>✅ Trip Verified |   Flight cancelled, not refu...</td>\n",
       "      <td>3</td>\n",
       "      <td>7th November 2024</td>\n",
       "      <td>Canada</td>\n",
       "      <td>True</td>\n",
       "    </tr>\n",
       "  </tbody>\n",
       "</table>\n",
       "</div>"
      ],
      "text/plain": [
       "                                             reviews stars  \\\n",
       "0  Not Verified | The worst airline I have ever f...     5   \n",
       "1  ✅ Trip Verified |   Disappointing service, pla...     1   \n",
       "2  ✅ Trip Verified |   A transit visa is required...     3   \n",
       "3  ✅ Trip Verified |   I was surprised to receive...     1   \n",
       "4  ✅ Trip Verified |   Flight cancelled, not refu...     3   \n",
       "\n",
       "                 date    country  verified  \n",
       "0  13th November 2024  Australia     False  \n",
       "1   8th November 2024    Iceland      True  \n",
       "2   8th November 2024  Singapore      True  \n",
       "3   7th November 2024     Turkey      True  \n",
       "4   7th November 2024     Canada      True  "
      ]
     },
     "execution_count": 78,
     "metadata": {},
     "output_type": "execute_result"
    }
   ],
   "source": [
    "df.columns\n",
    "df.head()"
   ]
  },
  {
   "cell_type": "code",
   "execution_count": 75,
   "id": "71d9baaa",
   "metadata": {},
   "outputs": [],
   "source": [
    "df['verified'] = df.reviews.str.contains(\"Trip Verified\")"
   ]
  },
  {
   "cell_type": "code",
   "execution_count": 77,
   "id": "89a6e96e",
   "metadata": {},
   "outputs": [
    {
     "data": {
      "text/plain": [
       "0       False\n",
       "1        True\n",
       "2        True\n",
       "3        True\n",
       "4        True\n",
       "        ...  \n",
       "3495    False\n",
       "3496    False\n",
       "3497    False\n",
       "3498    False\n",
       "3499    False\n",
       "Name: verified, Length: 3500, dtype: bool"
      ]
     },
     "execution_count": 77,
     "metadata": {},
     "output_type": "execute_result"
    }
   ],
   "source": [
    "#df.head()\n",
    "df['verified']"
   ]
  },
  {
   "cell_type": "markdown",
   "id": "96d1cfe4",
   "metadata": {},
   "source": [
    "### Cleaning Reviews"
   ]
  },
  {
   "cell_type": "markdown",
   "id": "e60fef2c",
   "metadata": {},
   "source": [
    "We will extract the column of reviews into a separate dataframe and clean it for semantic analysis"
   ]
  },
  {
   "cell_type": "code",
   "execution_count": 79,
   "id": "85c43e03",
   "metadata": {},
   "outputs": [],
   "source": [
    "#for lemmatization of words we will use nltk library\n",
    "from nltk.stem import WordNetLemmatizer\n",
    "from nltk.corpus import stopwords\n",
    "lemma = WordNetLemmatizer()\n",
    "\n",
    "\n",
    "reviews_data = df.reviews.str.strip(\"✅ Trip Verified |\")\n",
    "\n",
    "#create an empty list to collect cleaned data corpus\n",
    "corpus =[]\n",
    "\n",
    "#loop through each review, remove punctuations, small case it, join it and add it to corpus\n",
    "for rev in reviews_data:\n",
    "    rev = re.sub('[^a-zA-Z]',' ', rev)\n",
    "    rev = rev.lower()\n",
    "    rev = rev.split()\n",
    "    rev = [lemma.lemmatize(word) for word in rev if word not in set(stopwords.words(\"english\"))]\n",
    "    rev = \" \".join(rev)\n",
    "    corpus.append(rev)"
   ]
  },
  {
   "cell_type": "code",
   "execution_count": 80,
   "id": "faef3503",
   "metadata": {},
   "outputs": [],
   "source": [
    "# add the corpus to the original dataframe\n",
    "\n",
    "df['corpus'] = corpus"
   ]
  },
  {
   "cell_type": "code",
   "execution_count": 87,
   "id": "598520f5",
   "metadata": {},
   "outputs": [
    {
     "data": {
      "text/html": [
       "<div>\n",
       "<style scoped>\n",
       "    .dataframe tbody tr th:only-of-type {\n",
       "        vertical-align: middle;\n",
       "    }\n",
       "\n",
       "    .dataframe tbody tr th {\n",
       "        vertical-align: top;\n",
       "    }\n",
       "\n",
       "    .dataframe thead th {\n",
       "        text-align: right;\n",
       "    }\n",
       "</style>\n",
       "<table border=\"1\" class=\"dataframe\">\n",
       "  <thead>\n",
       "    <tr style=\"text-align: right;\">\n",
       "      <th></th>\n",
       "      <th>reviews</th>\n",
       "      <th>stars</th>\n",
       "      <th>date</th>\n",
       "      <th>country</th>\n",
       "      <th>verified</th>\n",
       "      <th>corpus</th>\n",
       "    </tr>\n",
       "  </thead>\n",
       "  <tbody>\n",
       "    <tr>\n",
       "      <th>0</th>\n",
       "      <td>Not Verified | The worst airline I have ever f...</td>\n",
       "      <td>5</td>\n",
       "      <td>13th November 2024</td>\n",
       "      <td>Australia</td>\n",
       "      <td>False</td>\n",
       "      <td>verified worst airline ever flown cancelled fl...</td>\n",
       "    </tr>\n",
       "    <tr>\n",
       "      <th>1</th>\n",
       "      <td>✅ Trip Verified |   Disappointing service, pla...</td>\n",
       "      <td>1</td>\n",
       "      <td>8th November 2024</td>\n",
       "      <td>Iceland</td>\n",
       "      <td>True</td>\n",
       "      <td>disappointing service plane interior terribly ...</td>\n",
       "    </tr>\n",
       "    <tr>\n",
       "      <th>2</th>\n",
       "      <td>✅ Trip Verified |   A transit visa is required...</td>\n",
       "      <td>3</td>\n",
       "      <td>8th November 2024</td>\n",
       "      <td>Singapore</td>\n",
       "      <td>True</td>\n",
       "      <td>transit visa required partner transit via lond...</td>\n",
       "    </tr>\n",
       "    <tr>\n",
       "      <th>3</th>\n",
       "      <td>✅ Trip Verified |   I was surprised to receive...</td>\n",
       "      <td>1</td>\n",
       "      <td>7th November 2024</td>\n",
       "      <td>Turkey</td>\n",
       "      <td>True</td>\n",
       "      <td>surprised receive confirmation pre flight kg l...</td>\n",
       "    </tr>\n",
       "    <tr>\n",
       "      <th>4</th>\n",
       "      <td>✅ Trip Verified |   Flight cancelled, not refu...</td>\n",
       "      <td>3</td>\n",
       "      <td>7th November 2024</td>\n",
       "      <td>Canada</td>\n",
       "      <td>True</td>\n",
       "      <td>flight cancelled refunding money saying took f...</td>\n",
       "    </tr>\n",
       "  </tbody>\n",
       "</table>\n",
       "</div>"
      ],
      "text/plain": [
       "                                             reviews stars  \\\n",
       "0  Not Verified | The worst airline I have ever f...     5   \n",
       "1  ✅ Trip Verified |   Disappointing service, pla...     1   \n",
       "2  ✅ Trip Verified |   A transit visa is required...     3   \n",
       "3  ✅ Trip Verified |   I was surprised to receive...     1   \n",
       "4  ✅ Trip Verified |   Flight cancelled, not refu...     3   \n",
       "\n",
       "                 date    country  verified  \\\n",
       "0  13th November 2024  Australia     False   \n",
       "1   8th November 2024    Iceland      True   \n",
       "2   8th November 2024  Singapore      True   \n",
       "3   7th November 2024     Turkey      True   \n",
       "4   7th November 2024     Canada      True   \n",
       "\n",
       "                                              corpus  \n",
       "0  verified worst airline ever flown cancelled fl...  \n",
       "1  disappointing service plane interior terribly ...  \n",
       "2  transit visa required partner transit via lond...  \n",
       "3  surprised receive confirmation pre flight kg l...  \n",
       "4  flight cancelled refunding money saying took f...  "
      ]
     },
     "execution_count": 87,
     "metadata": {},
     "output_type": "execute_result"
    }
   ],
   "source": [
    "df.head()"
   ]
  },
  {
   "cell_type": "markdown",
   "id": "b4c4278e",
   "metadata": {},
   "source": [
    "Cleaning/Fromat date"
   ]
  },
  {
   "cell_type": "code",
   "execution_count": 88,
   "id": "38d0b27a",
   "metadata": {},
   "outputs": [
    {
     "data": {
      "text/plain": [
       "reviews     object\n",
       "stars       object\n",
       "date        object\n",
       "country     object\n",
       "verified      bool\n",
       "corpus      object\n",
       "dtype: object"
      ]
     },
     "execution_count": 88,
     "metadata": {},
     "output_type": "execute_result"
    }
   ],
   "source": [
    "df.dtypes"
   ]
  },
  {
   "cell_type": "code",
   "execution_count": 89,
   "id": "217fa8cd",
   "metadata": {},
   "outputs": [],
   "source": [
    "# convert the date to datetime format\n",
    "\n",
    "df.date = pd.to_datetime(df.date)"
   ]
  },
  {
   "cell_type": "code",
   "execution_count": 91,
   "id": "e907e8eb",
   "metadata": {},
   "outputs": [
    {
     "data": {
      "text/plain": [
       "0      2024-11-13\n",
       "1      2024-11-08\n",
       "2      2024-11-08\n",
       "3      2024-11-07\n",
       "4      2024-11-07\n",
       "          ...    \n",
       "3495   2014-11-12\n",
       "3496   2014-11-12\n",
       "3497   2014-11-12\n",
       "3498   2014-11-11\n",
       "3499   2014-11-06\n",
       "Name: date, Length: 3500, dtype: datetime64[ns]"
      ]
     },
     "execution_count": 91,
     "metadata": {},
     "output_type": "execute_result"
    }
   ],
   "source": []
  },
  {
   "cell_type": "code",
   "execution_count": 92,
   "id": "52b9608f",
   "metadata": {},
   "outputs": [
    {
     "data": {
      "text/plain": [
       "0   2024-11-13\n",
       "1   2024-11-08\n",
       "2   2024-11-08\n",
       "3   2024-11-07\n",
       "4   2024-11-07\n",
       "Name: date, dtype: datetime64[ns]"
      ]
     },
     "execution_count": 92,
     "metadata": {},
     "output_type": "execute_result"
    }
   ],
   "source": [
    "#df.date.head()\n",
    "df.date.head()"
   ]
  },
  {
   "cell_type": "markdown",
   "id": "92005490",
   "metadata": {},
   "source": [
    "Cleaning ratings with stars"
   ]
  },
  {
   "cell_type": "code",
   "execution_count": 93,
   "id": "c29d903a",
   "metadata": {},
   "outputs": [
    {
     "data": {
      "text/plain": [
       "array(['5', '1', '3', '6', '7', '9', '2', '8', '4', '10', 'None'],\n",
       "      dtype=object)"
      ]
     },
     "execution_count": 93,
     "metadata": {},
     "output_type": "execute_result"
    }
   ],
   "source": [
    "#check for unique values\n",
    "df.stars.unique()"
   ]
  },
  {
   "cell_type": "code",
   "execution_count": 94,
   "id": "c55a58f5",
   "metadata": {},
   "outputs": [],
   "source": [
    "# remove the \\t and \\n from the ratings\n",
    "df.stars = df.stars.str.strip(\"\\n\\t\\t\\t\\t\\t\\t\\t\\t\\t\\t\\t\\t\\t\")"
   ]
  },
  {
   "cell_type": "code",
   "execution_count": 95,
   "id": "11699d4c",
   "metadata": {},
   "outputs": [
    {
     "data": {
      "text/plain": [
       "1       883\n",
       "2       408\n",
       "3       401\n",
       "8       339\n",
       "10      281\n",
       "7       272\n",
       "9       264\n",
       "5       246\n",
       "4       233\n",
       "6       170\n",
       "None      3\n",
       "Name: stars, dtype: int64"
      ]
     },
     "execution_count": 95,
     "metadata": {},
     "output_type": "execute_result"
    }
   ],
   "source": [
    "df.stars.value_counts()"
   ]
  },
  {
   "cell_type": "code",
   "execution_count": 96,
   "id": "341e96de",
   "metadata": {},
   "outputs": [],
   "source": [
    "# drop the rows where the value of ratings is None\n",
    "df.drop(df[df.stars == \"None\"].index, axis=0, inplace=True)"
   ]
  },
  {
   "cell_type": "code",
   "execution_count": 97,
   "id": "cd56eae3",
   "metadata": {},
   "outputs": [
    {
     "data": {
      "text/plain": [
       "array(['5', '1', '3', '6', '7', '9', '2', '8', '4', '10'], dtype=object)"
      ]
     },
     "execution_count": 97,
     "metadata": {},
     "output_type": "execute_result"
    }
   ],
   "source": [
    "#check the unique values again\n",
    "df.stars.unique()"
   ]
  },
  {
   "cell_type": "markdown",
   "id": "69c55d38",
   "metadata": {},
   "source": [
    "Check for null Values"
   ]
  },
  {
   "cell_type": "code",
   "execution_count": 98,
   "id": "d18215a9",
   "metadata": {},
   "outputs": [
    {
     "data": {
      "text/plain": [
       "reviews  stars  date   country  verified  corpus\n",
       "False    False  False  False    False     False     3496\n",
       "                       True     False     False        1\n",
       "dtype: int64"
      ]
     },
     "execution_count": 98,
     "metadata": {},
     "output_type": "execute_result"
    }
   ],
   "source": [
    "df.isnull().value_counts()"
   ]
  },
  {
   "cell_type": "code",
   "execution_count": 99,
   "id": "762f53bf",
   "metadata": {},
   "outputs": [
    {
     "data": {
      "text/plain": [
       "False    3496\n",
       "True        1\n",
       "Name: country, dtype: int64"
      ]
     },
     "execution_count": 99,
     "metadata": {},
     "output_type": "execute_result"
    }
   ],
   "source": [
    "df.country.isnull().value_counts()"
   ]
  },
  {
   "cell_type": "code",
   "execution_count": 100,
   "id": "b793a4da",
   "metadata": {},
   "outputs": [],
   "source": [
    "#drop the rows using index where the country value is null\n",
    "df.drop(df[df.country.isnull() == True].index, axis=0, inplace=True)"
   ]
  },
  {
   "cell_type": "code",
   "execution_count": 101,
   "id": "dd9ff415",
   "metadata": {},
   "outputs": [
    {
     "data": {
      "text/plain": [
       "(3496, 6)"
      ]
     },
     "execution_count": 101,
     "metadata": {},
     "output_type": "execute_result"
    }
   ],
   "source": [
    "df.shape"
   ]
  },
  {
   "cell_type": "code",
   "execution_count": 102,
   "id": "03876d1f",
   "metadata": {},
   "outputs": [
    {
     "data": {
      "text/html": [
       "<div>\n",
       "<style scoped>\n",
       "    .dataframe tbody tr th:only-of-type {\n",
       "        vertical-align: middle;\n",
       "    }\n",
       "\n",
       "    .dataframe tbody tr th {\n",
       "        vertical-align: top;\n",
       "    }\n",
       "\n",
       "    .dataframe thead th {\n",
       "        text-align: right;\n",
       "    }\n",
       "</style>\n",
       "<table border=\"1\" class=\"dataframe\">\n",
       "  <thead>\n",
       "    <tr style=\"text-align: right;\">\n",
       "      <th></th>\n",
       "      <th>reviews</th>\n",
       "      <th>stars</th>\n",
       "      <th>date</th>\n",
       "      <th>country</th>\n",
       "      <th>verified</th>\n",
       "      <th>corpus</th>\n",
       "    </tr>\n",
       "  </thead>\n",
       "  <tbody>\n",
       "    <tr>\n",
       "      <th>0</th>\n",
       "      <td>Not Verified | The worst airline I have ever f...</td>\n",
       "      <td>5</td>\n",
       "      <td>2024-11-13</td>\n",
       "      <td>Australia</td>\n",
       "      <td>False</td>\n",
       "      <td>verified worst airline ever flown cancelled fl...</td>\n",
       "    </tr>\n",
       "    <tr>\n",
       "      <th>1</th>\n",
       "      <td>✅ Trip Verified |   Disappointing service, pla...</td>\n",
       "      <td>1</td>\n",
       "      <td>2024-11-08</td>\n",
       "      <td>Iceland</td>\n",
       "      <td>True</td>\n",
       "      <td>disappointing service plane interior terribly ...</td>\n",
       "    </tr>\n",
       "    <tr>\n",
       "      <th>2</th>\n",
       "      <td>✅ Trip Verified |   A transit visa is required...</td>\n",
       "      <td>3</td>\n",
       "      <td>2024-11-08</td>\n",
       "      <td>Singapore</td>\n",
       "      <td>True</td>\n",
       "      <td>transit visa required partner transit via lond...</td>\n",
       "    </tr>\n",
       "    <tr>\n",
       "      <th>3</th>\n",
       "      <td>✅ Trip Verified |   I was surprised to receive...</td>\n",
       "      <td>1</td>\n",
       "      <td>2024-11-07</td>\n",
       "      <td>Turkey</td>\n",
       "      <td>True</td>\n",
       "      <td>surprised receive confirmation pre flight kg l...</td>\n",
       "    </tr>\n",
       "    <tr>\n",
       "      <th>4</th>\n",
       "      <td>✅ Trip Verified |   Flight cancelled, not refu...</td>\n",
       "      <td>3</td>\n",
       "      <td>2024-11-07</td>\n",
       "      <td>Canada</td>\n",
       "      <td>True</td>\n",
       "      <td>flight cancelled refunding money saying took f...</td>\n",
       "    </tr>\n",
       "    <tr>\n",
       "      <th>...</th>\n",
       "      <td>...</td>\n",
       "      <td>...</td>\n",
       "      <td>...</td>\n",
       "      <td>...</td>\n",
       "      <td>...</td>\n",
       "      <td>...</td>\n",
       "    </tr>\n",
       "    <tr>\n",
       "      <th>3491</th>\n",
       "      <td>BA 83 from LHR to LAX first time on Airbus A38...</td>\n",
       "      <td>9</td>\n",
       "      <td>2014-11-12</td>\n",
       "      <td>United States</td>\n",
       "      <td>False</td>\n",
       "      <td>ba lhr lax first time airbus comfortable quiet...</td>\n",
       "    </tr>\n",
       "    <tr>\n",
       "      <th>3492</th>\n",
       "      <td>London Gatwick - Barbados in premium economy. ...</td>\n",
       "      <td>1</td>\n",
       "      <td>2014-11-12</td>\n",
       "      <td>Spain</td>\n",
       "      <td>False</td>\n",
       "      <td>london gatwick barbados premium economy saturd...</td>\n",
       "    </tr>\n",
       "    <tr>\n",
       "      <th>3493</th>\n",
       "      <td>LHR-ZRH. A320 was used on this route. I was no...</td>\n",
       "      <td>10</td>\n",
       "      <td>2014-11-12</td>\n",
       "      <td>United States</td>\n",
       "      <td>False</td>\n",
       "      <td>lhr zrh used route expecting much since flight...</td>\n",
       "    </tr>\n",
       "    <tr>\n",
       "      <th>3494</th>\n",
       "      <td>I flew from MIA-LHR-DXB. The 747 like most of ...</td>\n",
       "      <td>7</td>\n",
       "      <td>2014-11-11</td>\n",
       "      <td>United Arab Emirates</td>\n",
       "      <td>False</td>\n",
       "      <td>flew mia lhr dxb like crew well passed sell da...</td>\n",
       "    </tr>\n",
       "    <tr>\n",
       "      <th>3495</th>\n",
       "      <td>BA268 LAX-LHR seat WT+ on the A380. Check in w...</td>\n",
       "      <td>9</td>\n",
       "      <td>2014-11-06</td>\n",
       "      <td>United Kingdom</td>\n",
       "      <td>False</td>\n",
       "      <td>ba lax lhr seat wt check quick security onewor...</td>\n",
       "    </tr>\n",
       "  </tbody>\n",
       "</table>\n",
       "<p>3496 rows × 6 columns</p>\n",
       "</div>"
      ],
      "text/plain": [
       "                                                reviews stars       date  \\\n",
       "0     Not Verified | The worst airline I have ever f...     5 2024-11-13   \n",
       "1     ✅ Trip Verified |   Disappointing service, pla...     1 2024-11-08   \n",
       "2     ✅ Trip Verified |   A transit visa is required...     3 2024-11-08   \n",
       "3     ✅ Trip Verified |   I was surprised to receive...     1 2024-11-07   \n",
       "4     ✅ Trip Verified |   Flight cancelled, not refu...     3 2024-11-07   \n",
       "...                                                 ...   ...        ...   \n",
       "3491  BA 83 from LHR to LAX first time on Airbus A38...     9 2014-11-12   \n",
       "3492  London Gatwick - Barbados in premium economy. ...     1 2014-11-12   \n",
       "3493  LHR-ZRH. A320 was used on this route. I was no...    10 2014-11-12   \n",
       "3494  I flew from MIA-LHR-DXB. The 747 like most of ...     7 2014-11-11   \n",
       "3495  BA268 LAX-LHR seat WT+ on the A380. Check in w...     9 2014-11-06   \n",
       "\n",
       "                   country  verified  \\\n",
       "0                Australia     False   \n",
       "1                  Iceland      True   \n",
       "2                Singapore      True   \n",
       "3                   Turkey      True   \n",
       "4                   Canada      True   \n",
       "...                    ...       ...   \n",
       "3491         United States     False   \n",
       "3492                 Spain     False   \n",
       "3493         United States     False   \n",
       "3494  United Arab Emirates     False   \n",
       "3495        United Kingdom     False   \n",
       "\n",
       "                                                 corpus  \n",
       "0     verified worst airline ever flown cancelled fl...  \n",
       "1     disappointing service plane interior terribly ...  \n",
       "2     transit visa required partner transit via lond...  \n",
       "3     surprised receive confirmation pre flight kg l...  \n",
       "4     flight cancelled refunding money saying took f...  \n",
       "...                                                 ...  \n",
       "3491  ba lhr lax first time airbus comfortable quiet...  \n",
       "3492  london gatwick barbados premium economy saturd...  \n",
       "3493  lhr zrh used route expecting much since flight...  \n",
       "3494  flew mia lhr dxb like crew well passed sell da...  \n",
       "3495  ba lax lhr seat wt check quick security onewor...  \n",
       "\n",
       "[3496 rows x 6 columns]"
      ]
     },
     "execution_count": 102,
     "metadata": {},
     "output_type": "execute_result"
    }
   ],
   "source": [
    "#resetting the index\n",
    "df.reset_index(drop=True)"
   ]
  },
  {
   "cell_type": "markdown",
   "id": "48336f86",
   "metadata": {},
   "source": [
    "Now our data is all cleaned and ready for data visualization and data analysis"
   ]
  },
  {
   "cell_type": "code",
   "execution_count": 103,
   "id": "1a4e8299",
   "metadata": {},
   "outputs": [],
   "source": [
    "# export the cleaned data\n",
    "\n",
    "df.to_csv(cwd + \"/cleaned-BA-reviews.csv\")"
   ]
  },
  {
   "cell_type": "code",
   "execution_count": null,
   "id": "3726e63a",
   "metadata": {},
   "outputs": [],
   "source": []
  }
 ],
 "metadata": {
  "kernelspec": {
   "display_name": "Python 3 (ipykernel)",
   "language": "python",
   "name": "python3"
  },
  "language_info": {
   "codemirror_mode": {
    "name": "ipython",
    "version": 3
   },
   "file_extension": ".py",
   "mimetype": "text/x-python",
   "name": "python",
   "nbconvert_exporter": "python",
   "pygments_lexer": "ipython3",
   "version": "3.11.4"
  }
 },
 "nbformat": 4,
 "nbformat_minor": 5
}
